{
 "cells": [
  {
   "cell_type": "code",
   "execution_count": 12,
   "metadata": {
    "collapsed": true
   },
   "outputs": [],
   "source": [
    "import time \n",
    "\n",
    "\n",
    "import pandas as pd\n",
    "import numpy as np \n",
    "from collections import OrderedDict\n",
    "from faker import Factory\n",
    "from random import sample"
   ]
  },
  {
   "cell_type": "code",
   "execution_count": 13,
   "metadata": {
    "collapsed": true
   },
   "outputs": [],
   "source": [
    "fake = Factory.create()"
   ]
  },
  {
   "cell_type": "code",
   "execution_count": 14,
   "metadata": {
    "collapsed": true
   },
   "outputs": [],
   "source": [
    "companies = pd.read_csv('companies.csv', \n",
    "                        index_col=False)"
   ]
  },
  {
   "cell_type": "code",
   "execution_count": 15,
   "metadata": {
    "collapsed": true
   },
   "outputs": [],
   "source": [
    "# get company names \n",
    "company_names = list(companies['name'].values)"
   ]
  },
  {
   "cell_type": "code",
   "execution_count": 16,
   "metadata": {
    "collapsed": true
   },
   "outputs": [],
   "source": [
    "def simulate_customer(n):\n",
    "    \n",
    "    \"\"\"simulate n customers, return a dataframe.\n",
    "       Each customer has id, age, name, address, compromised: 0 or 1 \n",
    "       where 1 if compromised and value is set by later function.\"\"\"\n",
    "    \n",
    "    data = OrderedDict()\n",
    "    \n",
    "    data['id'] = np.arange(n)\n",
    "    data['name'] = [fake.name() for n in range(n)]\n",
    "    data['uuid'] = [fake.uuid4() for n in range(n)]\n",
    "    data['age'] = np.random.randint(18, 85, size=n)\n",
    "    data['addresses'] = np.array([fake.address().replace('\\n', ', ') for n in range(n)])\n",
    "    data['compromised'] = np.zeros(n)\n",
    "    data['compromised_time'] = np.zeros(n)\n",
    "    \n",
    "    df = pd.DataFrame(data)\n",
    "    return df"
   ]
  },
  {
   "cell_type": "code",
   "execution_count": 17,
   "metadata": {},
   "outputs": [
    {
     "data": {
      "text/html": [
       "<div>\n",
       "<style scoped>\n",
       "    .dataframe tbody tr th:only-of-type {\n",
       "        vertical-align: middle;\n",
       "    }\n",
       "\n",
       "    .dataframe tbody tr th {\n",
       "        vertical-align: top;\n",
       "    }\n",
       "\n",
       "    .dataframe thead th {\n",
       "        text-align: right;\n",
       "    }\n",
       "</style>\n",
       "<table border=\"1\" class=\"dataframe\">\n",
       "  <thead>\n",
       "    <tr style=\"text-align: right;\">\n",
       "      <th></th>\n",
       "      <th>id</th>\n",
       "      <th>name</th>\n",
       "      <th>uuid</th>\n",
       "      <th>age</th>\n",
       "      <th>addresses</th>\n",
       "      <th>compromised</th>\n",
       "      <th>compromised_time</th>\n",
       "    </tr>\n",
       "  </thead>\n",
       "  <tbody>\n",
       "    <tr>\n",
       "      <th>0</th>\n",
       "      <td>0</td>\n",
       "      <td>Bryce Brooks</td>\n",
       "      <td>d0d3b935-2b64-381c-9c10-0ee84a497c4a</td>\n",
       "      <td>46</td>\n",
       "      <td>37794 Molina Rest, North Brett, NV 99138-4310</td>\n",
       "      <td>0.0</td>\n",
       "      <td>0.0</td>\n",
       "    </tr>\n",
       "    <tr>\n",
       "      <th>1</th>\n",
       "      <td>1</td>\n",
       "      <td>Brittany Massey</td>\n",
       "      <td>29cff95a-0f13-130c-9adc-d607a1866b56</td>\n",
       "      <td>47</td>\n",
       "      <td>23492 Jacob Dam Apt. 679, West Elizabethbury, ...</td>\n",
       "      <td>0.0</td>\n",
       "      <td>0.0</td>\n",
       "    </tr>\n",
       "    <tr>\n",
       "      <th>2</th>\n",
       "      <td>2</td>\n",
       "      <td>David Contreras</td>\n",
       "      <td>fa5bb5ab-4520-c77d-a982-748f4e711a32</td>\n",
       "      <td>83</td>\n",
       "      <td>USS Gregory, FPO AA 97016-2124</td>\n",
       "      <td>0.0</td>\n",
       "      <td>0.0</td>\n",
       "    </tr>\n",
       "  </tbody>\n",
       "</table>\n",
       "</div>"
      ],
      "text/plain": [
       "   id             name                                  uuid  age  \\\n",
       "0   0     Bryce Brooks  d0d3b935-2b64-381c-9c10-0ee84a497c4a   46   \n",
       "1   1  Brittany Massey  29cff95a-0f13-130c-9adc-d607a1866b56   47   \n",
       "2   2  David Contreras  fa5bb5ab-4520-c77d-a982-748f4e711a32   83   \n",
       "\n",
       "                                           addresses  compromised  \\\n",
       "0      37794 Molina Rest, North Brett, NV 99138-4310          0.0   \n",
       "1  23492 Jacob Dam Apt. 679, West Elizabethbury, ...          0.0   \n",
       "2                     USS Gregory, FPO AA 97016-2124          0.0   \n",
       "\n",
       "   compromised_time  \n",
       "0               0.0  \n",
       "1               0.0  \n",
       "2               0.0  "
      ]
     },
     "execution_count": 17,
     "metadata": {},
     "output_type": "execute_result"
    }
   ],
   "source": [
    "simulate_customer(3)"
   ]
  },
  {
   "cell_type": "code",
   "execution_count": 18,
   "metadata": {
    "collapsed": true
   },
   "outputs": [],
   "source": [
    "def simulate_business(n, company, fraud_prob = 0.1):  # can adjust the fraud_prob\n",
    "    \n",
    "    data = OrderedDict()\n",
    "    \n",
    "    data['id'] = np.arange(n)\n",
    "    data['company_name'] =sample(company, n)\n",
    "    data['addresses'] = [fake.address().replace('\\n', ', ') for n in range(n)]\n",
    "    data['fraudsters'] = np.where(np.random.sample(size=n) < fraud_prob, 1, 0)\n",
    "    \n",
    "    df = pd.DataFrame(data)\n",
    "    return df\n",
    "                                        "
   ]
  },
  {
   "cell_type": "code",
   "execution_count": 42,
   "metadata": {},
   "outputs": [],
   "source": [
    "def simulate_good_transaction_df(ppl, companies, max_trans = 50,\n",
    "                              fraud_prob = 1,  earliest='-1mon',\n",
    "                              latest = 'now', amin=10, amax=500):\n",
    "    \n",
    "    transactions = []\n",
    "    transactions.append(['users', 'uuids', 'time', 'business',\n",
    "                         'amount', 'dispute'])\n",
    "    \n",
    "    \n",
    "    for p in range(ppl.shape[0]):\n",
    "                        \n",
    "        person = ppl.iloc[p]\n",
    "        num_trans = np.random.randint(1, max_trans+1)\n",
    "    \n",
    "        for i in range(num_trans):\n",
    "            \n",
    "            transaction = []\n",
    "        \n",
    "            time = fake.date_time_between(start_date=\"-2mon\", end_date=\"now\", tzinfo=None)\n",
    "            company = companies.sample(1)\n",
    "            amount = np.round(np.random.uniform(amin, amax), decimals=2)\n",
    "                        \n",
    "            transaction.append(person['name'])\n",
    "            transaction.append(person['uuid'])\n",
    "            transaction.append(time),\n",
    "            transaction.append(company['company_name'].values[0])\n",
    "            transaction.append(amount)\n",
    "            transaction.append(0)    # disputed is always zero for good transactions\n",
    "            transactions.append(transaction)\n",
    "        \n",
    "            # if fraudsters are present, they may or may not steal\n",
    "            # the users information\n",
    "        \n",
    "            if company['fraudsters'].values[0] == 1:\n",
    "                \n",
    "                if np.random.sample() < fraud_prob:\n",
    "                    ppl.at[person['id'], 'compromised'] =  1\n",
    "                    ppl.at[person['id'], 'compromised_time'] =  time\n",
    "                    \n",
    "    header = transactions.pop(0)\n",
    "    df = pd.DataFrame(transactions, columns = header)      \n",
    "    return df"
   ]
  },
  {
   "cell_type": "code",
   "execution_count": 50,
   "metadata": {
    "collapsed": true
   },
   "outputs": [],
   "source": [
    "\n",
    "def fraud(person, companies, time, amin = 5,amax=3000):\n",
    "\n",
    "    business = companies.sample(1)\n",
    "    amount = np.round(np.random.uniform(amin, amax), decimals=2)\n",
    "\n",
    "    transaction = []\n",
    "            \n",
    "    transaction.append(person['name'])\n",
    "    transaction.append(person['uuid'])\n",
    "    transaction.append(time)\n",
    "    transaction.append(companies['name'].values[0])\n",
    "    transaction.append(amount)\n",
    "    transaction.append(1) #disputed for bad transaction is always 1\n",
    "    \n",
    "    return transaction"
   ]
  },
  {
   "cell_type": "code",
   "execution_count": 51,
   "metadata": {
    "collapsed": true
   },
   "outputs": [],
   "source": [
    "def simulate_bad_transaction_df(ppl, companies,max_trans = 50, \n",
    "                              customer_fraud_detect_prob = 0.01,\n",
    "                              latest = '+20d',amin = 5, amix=3000):\n",
    "    \n",
    "    transactions = []\n",
    "    compromised = ppl[ppl['compromised'] ==1]\n",
    "    \n",
    "\n",
    "    for i in range(compromised.shape[0]):\n",
    "        \n",
    "        person = compromised.iloc[i]\n",
    "        earliest = person['compromised_time']\n",
    "        time = fake.date_time_between(start_date=earliest, end_date=latest, tzinfo=None)\n",
    "        num_trans = np.random.randint(3, max_trans+1)\n",
    "        \n",
    "        for j in range(num_trans):\n",
    "             \n",
    "            if j == 1:\n",
    "                transaction = fraud(person, companies, time)\n",
    "                transactions.append(transaction)\n",
    "                \n",
    "            # Each fradulent transaction has +1% chance of being cause from the user\n",
    "            # Imaginging they are maybe monitoring their transaction history\n",
    "            # Or happen to be checking one thing or another\n",
    "            if np.random.sample() < j/100:\n",
    "                transaction = fraud(person, companies, time)\n",
    "                transactions.append(transaction)\n",
    "    \n",
    "    header = transactions.pop(0)\n",
    "    df = pd.DataFrame(transactions, columns = header)  \n",
    "    \n",
    "    return df\n",
    "        "
   ]
  },
  {
   "cell_type": "code",
   "execution_count": 43,
   "metadata": {
    "collapsed": true
   },
   "outputs": [],
   "source": [
    "businesses = simulate_business(100, company_names)"
   ]
  },
  {
   "cell_type": "code",
   "execution_count": 44,
   "metadata": {
    "collapsed": true
   },
   "outputs": [],
   "source": [
    "customers = simulate_customer(50)"
   ]
  },
  {
   "cell_type": "code",
   "execution_count": 56,
   "metadata": {},
   "outputs": [
    {
     "data": {
      "text/plain": [
       "(1290, 6)"
      ]
     },
     "execution_count": 56,
     "metadata": {},
     "output_type": "execute_result"
    }
   ],
   "source": [
    "normal_trans_df = simulate_good_transaction_df(customers, businesses)\n",
    "normal_trans_df.shape"
   ]
  },
  {
   "cell_type": "code",
   "execution_count": 57,
   "metadata": {},
   "outputs": [
    {
     "data": {
      "text/html": [
       "<div>\n",
       "<style scoped>\n",
       "    .dataframe tbody tr th:only-of-type {\n",
       "        vertical-align: middle;\n",
       "    }\n",
       "\n",
       "    .dataframe tbody tr th {\n",
       "        vertical-align: top;\n",
       "    }\n",
       "\n",
       "    .dataframe thead th {\n",
       "        text-align: right;\n",
       "    }\n",
       "</style>\n",
       "<table border=\"1\" class=\"dataframe\">\n",
       "  <thead>\n",
       "    <tr style=\"text-align: right;\">\n",
       "      <th></th>\n",
       "      <th>users</th>\n",
       "      <th>uuids</th>\n",
       "      <th>time</th>\n",
       "      <th>business</th>\n",
       "      <th>amount</th>\n",
       "      <th>dispute</th>\n",
       "    </tr>\n",
       "  </thead>\n",
       "  <tbody>\n",
       "    <tr>\n",
       "      <th>0</th>\n",
       "      <td>Steven Lucas</td>\n",
       "      <td>2091806c-ff95-da79-6081-603e95dd00bc</td>\n",
       "      <td>2018-04-18 12:57:50</td>\n",
       "      <td>Agrium Inc.</td>\n",
       "      <td>151.89</td>\n",
       "      <td>0</td>\n",
       "    </tr>\n",
       "    <tr>\n",
       "      <th>1</th>\n",
       "      <td>Steven Lucas</td>\n",
       "      <td>2091806c-ff95-da79-6081-603e95dd00bc</td>\n",
       "      <td>2018-04-18 12:57:27</td>\n",
       "      <td>Welltower Inc.</td>\n",
       "      <td>233.10</td>\n",
       "      <td>0</td>\n",
       "    </tr>\n",
       "    <tr>\n",
       "      <th>2</th>\n",
       "      <td>Steven Lucas</td>\n",
       "      <td>2091806c-ff95-da79-6081-603e95dd00bc</td>\n",
       "      <td>2018-04-18 12:57:54</td>\n",
       "      <td>Imax Corporation</td>\n",
       "      <td>486.27</td>\n",
       "      <td>0</td>\n",
       "    </tr>\n",
       "    <tr>\n",
       "      <th>3</th>\n",
       "      <td>Steven Lucas</td>\n",
       "      <td>2091806c-ff95-da79-6081-603e95dd00bc</td>\n",
       "      <td>2018-04-18 12:56:22</td>\n",
       "      <td>Baytex Energy Corp</td>\n",
       "      <td>32.24</td>\n",
       "      <td>0</td>\n",
       "    </tr>\n",
       "    <tr>\n",
       "      <th>4</th>\n",
       "      <td>Steven Lucas</td>\n",
       "      <td>2091806c-ff95-da79-6081-603e95dd00bc</td>\n",
       "      <td>2018-04-18 12:57:21</td>\n",
       "      <td>Lennar Corporation</td>\n",
       "      <td>15.46</td>\n",
       "      <td>0</td>\n",
       "    </tr>\n",
       "  </tbody>\n",
       "</table>\n",
       "</div>"
      ],
      "text/plain": [
       "          users                                 uuids                time  \\\n",
       "0  Steven Lucas  2091806c-ff95-da79-6081-603e95dd00bc 2018-04-18 12:57:50   \n",
       "1  Steven Lucas  2091806c-ff95-da79-6081-603e95dd00bc 2018-04-18 12:57:27   \n",
       "2  Steven Lucas  2091806c-ff95-da79-6081-603e95dd00bc 2018-04-18 12:57:54   \n",
       "3  Steven Lucas  2091806c-ff95-da79-6081-603e95dd00bc 2018-04-18 12:56:22   \n",
       "4  Steven Lucas  2091806c-ff95-da79-6081-603e95dd00bc 2018-04-18 12:57:21   \n",
       "\n",
       "             business  amount  dispute  \n",
       "0         Agrium Inc.  151.89        0  \n",
       "1      Welltower Inc.  233.10        0  \n",
       "2    Imax Corporation  486.27        0  \n",
       "3  Baytex Energy Corp   32.24        0  \n",
       "4  Lennar Corporation   15.46        0  "
      ]
     },
     "execution_count": 57,
     "metadata": {},
     "output_type": "execute_result"
    }
   ],
   "source": [
    "normal_trans_df.head()"
   ]
  },
  {
   "cell_type": "code",
   "execution_count": 55,
   "metadata": {},
   "outputs": [
    {
     "data": {
      "text/plain": [
       "(200, 6)"
      ]
     },
     "execution_count": 55,
     "metadata": {},
     "output_type": "execute_result"
    }
   ],
   "source": [
    "fraud_trans_df = simulate_bad_transaction_df(customers, companies)\n",
    "fraud_trans_df.shape"
   ]
  },
  {
   "cell_type": "code",
   "execution_count": 58,
   "metadata": {},
   "outputs": [
    {
     "data": {
      "text/html": [
       "<div>\n",
       "<style scoped>\n",
       "    .dataframe tbody tr th:only-of-type {\n",
       "        vertical-align: middle;\n",
       "    }\n",
       "\n",
       "    .dataframe tbody tr th {\n",
       "        vertical-align: top;\n",
       "    }\n",
       "\n",
       "    .dataframe thead th {\n",
       "        text-align: right;\n",
       "    }\n",
       "</style>\n",
       "<table border=\"1\" class=\"dataframe\">\n",
       "  <thead>\n",
       "    <tr style=\"text-align: right;\">\n",
       "      <th></th>\n",
       "      <th>Steven Lucas</th>\n",
       "      <th>2091806c-ff95-da79-6081-603e95dd00bc</th>\n",
       "      <th>2018-04-24 18:17:10</th>\n",
       "      <th>3D Systems Corporation</th>\n",
       "      <th>1439.13</th>\n",
       "      <th>1</th>\n",
       "    </tr>\n",
       "  </thead>\n",
       "  <tbody>\n",
       "    <tr>\n",
       "      <th>0</th>\n",
       "      <td>Steven Lucas</td>\n",
       "      <td>2091806c-ff95-da79-6081-603e95dd00bc</td>\n",
       "      <td>2018-04-24 18:17:10</td>\n",
       "      <td>3D Systems Corporation</td>\n",
       "      <td>1776.64</td>\n",
       "      <td>1</td>\n",
       "    </tr>\n",
       "    <tr>\n",
       "      <th>1</th>\n",
       "      <td>Steven Lucas</td>\n",
       "      <td>2091806c-ff95-da79-6081-603e95dd00bc</td>\n",
       "      <td>2018-04-24 18:17:10</td>\n",
       "      <td>3D Systems Corporation</td>\n",
       "      <td>1234.16</td>\n",
       "      <td>1</td>\n",
       "    </tr>\n",
       "    <tr>\n",
       "      <th>2</th>\n",
       "      <td>Steven Lucas</td>\n",
       "      <td>2091806c-ff95-da79-6081-603e95dd00bc</td>\n",
       "      <td>2018-04-24 18:17:10</td>\n",
       "      <td>3D Systems Corporation</td>\n",
       "      <td>2354.30</td>\n",
       "      <td>1</td>\n",
       "    </tr>\n",
       "    <tr>\n",
       "      <th>3</th>\n",
       "      <td>Steven Lucas</td>\n",
       "      <td>2091806c-ff95-da79-6081-603e95dd00bc</td>\n",
       "      <td>2018-04-24 18:17:10</td>\n",
       "      <td>3D Systems Corporation</td>\n",
       "      <td>841.95</td>\n",
       "      <td>1</td>\n",
       "    </tr>\n",
       "    <tr>\n",
       "      <th>4</th>\n",
       "      <td>Carrie Kirk</td>\n",
       "      <td>b2cb2bf1-8ac8-d996-6cb6-4d405ebe0743</td>\n",
       "      <td>2018-05-01 10:50:15</td>\n",
       "      <td>3D Systems Corporation</td>\n",
       "      <td>2244.44</td>\n",
       "      <td>1</td>\n",
       "    </tr>\n",
       "  </tbody>\n",
       "</table>\n",
       "</div>"
      ],
      "text/plain": [
       "   Steven Lucas  2091806c-ff95-da79-6081-603e95dd00bc 2018-04-24 18:17:10  \\\n",
       "0  Steven Lucas  2091806c-ff95-da79-6081-603e95dd00bc 2018-04-24 18:17:10   \n",
       "1  Steven Lucas  2091806c-ff95-da79-6081-603e95dd00bc 2018-04-24 18:17:10   \n",
       "2  Steven Lucas  2091806c-ff95-da79-6081-603e95dd00bc 2018-04-24 18:17:10   \n",
       "3  Steven Lucas  2091806c-ff95-da79-6081-603e95dd00bc 2018-04-24 18:17:10   \n",
       "4   Carrie Kirk  b2cb2bf1-8ac8-d996-6cb6-4d405ebe0743 2018-05-01 10:50:15   \n",
       "\n",
       "   3D Systems Corporation  1439.13  1  \n",
       "0  3D Systems Corporation  1776.64  1  \n",
       "1  3D Systems Corporation  1234.16  1  \n",
       "2  3D Systems Corporation  2354.30  1  \n",
       "3  3D Systems Corporation   841.95  1  \n",
       "4  3D Systems Corporation  2244.44  1  "
      ]
     },
     "execution_count": 58,
     "metadata": {},
     "output_type": "execute_result"
    }
   ],
   "source": [
    "fraud_trans_df.head()"
   ]
  }
 ],
 "metadata": {
  "kernelspec": {
   "display_name": "Python 3",
   "language": "python",
   "name": "python3"
  },
  "language_info": {
   "codemirror_mode": {
    "name": "ipython",
    "version": 3
   },
   "file_extension": ".py",
   "mimetype": "text/x-python",
   "name": "python",
   "nbconvert_exporter": "python",
   "pygments_lexer": "ipython3",
   "version": "3.6.1"
  }
 },
 "nbformat": 4,
 "nbformat_minor": 2
}
