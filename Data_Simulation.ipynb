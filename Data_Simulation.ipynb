{
 "cells": [
  {
   "cell_type": "code",
   "execution_count": 1,
   "metadata": {
    "collapsed": true
   },
   "outputs": [],
   "source": [
    "import time \n",
    "\n",
    "\n",
    "import pandas as pd\n",
    "import numpy as np \n",
    "from collections import OrderedDict\n",
    "from faker import Factory\n",
    "from random import sample"
   ]
  },
  {
   "cell_type": "code",
   "execution_count": 2,
   "metadata": {
    "collapsed": true
   },
   "outputs": [],
   "source": [
    "fake = Factory.create()"
   ]
  },
  {
   "cell_type": "code",
   "execution_count": 3,
   "metadata": {},
   "outputs": [],
   "source": [
    "companies = pd.read_csv('companies.csv', \n",
    "                        index_col=False)"
   ]
  },
  {
   "cell_type": "code",
   "execution_count": 4,
   "metadata": {
    "collapsed": true
   },
   "outputs": [],
   "source": [
    "# get company names \n",
    "company_names = list(companies['name'].values)"
   ]
  },
  {
   "cell_type": "code",
   "execution_count": 5,
   "metadata": {
    "collapsed": true
   },
   "outputs": [],
   "source": [
    "def simulate_customer(n):\n",
    "    \n",
    "    \"\"\"simulate n customers, return a dataframe.\n",
    "       Each customer has id, age, name, address, compromised: 0 or 1 \n",
    "       where 1 if compromised and value is set by later function.\"\"\"\n",
    "    \n",
    "    data = OrderedDict()\n",
    "    \n",
    "    data['id'] = np.arange(n)\n",
    "    data['name'] = [fake.name() for n in range(n)]\n",
    "    data['uuid'] = [fake.uuid4() for n in range(n)]\n",
    "    data['age'] = np.random.randint(18, 85, size=n)\n",
    "    data['addresses'] = np.array([fake.address().replace('\\n', ', ') for n in range(n)])\n",
    "    data['compromised'] = np.zeros(n)\n",
    "    data['compromised_time'] = np.zeros(n)\n",
    "    \n",
    "    df = pd.DataFrame(data)\n",
    "    return df"
   ]
  },
  {
   "cell_type": "code",
   "execution_count": 6,
   "metadata": {},
   "outputs": [
    {
     "data": {
      "text/html": [
       "<div>\n",
       "<style scoped>\n",
       "    .dataframe tbody tr th:only-of-type {\n",
       "        vertical-align: middle;\n",
       "    }\n",
       "\n",
       "    .dataframe tbody tr th {\n",
       "        vertical-align: top;\n",
       "    }\n",
       "\n",
       "    .dataframe thead th {\n",
       "        text-align: right;\n",
       "    }\n",
       "</style>\n",
       "<table border=\"1\" class=\"dataframe\">\n",
       "  <thead>\n",
       "    <tr style=\"text-align: right;\">\n",
       "      <th></th>\n",
       "      <th>id</th>\n",
       "      <th>name</th>\n",
       "      <th>uuid</th>\n",
       "      <th>age</th>\n",
       "      <th>addresses</th>\n",
       "      <th>compromised</th>\n",
       "      <th>compromised_time</th>\n",
       "    </tr>\n",
       "  </thead>\n",
       "  <tbody>\n",
       "    <tr>\n",
       "      <th>0</th>\n",
       "      <td>0</td>\n",
       "      <td>Steven Johnson</td>\n",
       "      <td>06e182cc-2b04-402d-a972-9c428baf9512</td>\n",
       "      <td>54</td>\n",
       "      <td>01860 John Prairie Apt. 449, West Charlesview,...</td>\n",
       "      <td>0.0</td>\n",
       "      <td>0.0</td>\n",
       "    </tr>\n",
       "    <tr>\n",
       "      <th>1</th>\n",
       "      <td>1</td>\n",
       "      <td>Tony Galloway</td>\n",
       "      <td>358b4247-5350-3cd8-a311-30dcc9d32684</td>\n",
       "      <td>21</td>\n",
       "      <td>19588 Heather Summit, North Gregory, IN 05388-...</td>\n",
       "      <td>0.0</td>\n",
       "      <td>0.0</td>\n",
       "    </tr>\n",
       "    <tr>\n",
       "      <th>2</th>\n",
       "      <td>2</td>\n",
       "      <td>Denise Miller</td>\n",
       "      <td>7cc59a4c-72ad-2f49-caa6-bf79f4f528f3</td>\n",
       "      <td>41</td>\n",
       "      <td>293 Megan Glen, East Brian, TN 58477</td>\n",
       "      <td>0.0</td>\n",
       "      <td>0.0</td>\n",
       "    </tr>\n",
       "  </tbody>\n",
       "</table>\n",
       "</div>"
      ],
      "text/plain": [
       "   id            name                                  uuid  age  \\\n",
       "0   0  Steven Johnson  06e182cc-2b04-402d-a972-9c428baf9512   54   \n",
       "1   1   Tony Galloway  358b4247-5350-3cd8-a311-30dcc9d32684   21   \n",
       "2   2   Denise Miller  7cc59a4c-72ad-2f49-caa6-bf79f4f528f3   41   \n",
       "\n",
       "                                           addresses  compromised  \\\n",
       "0  01860 John Prairie Apt. 449, West Charlesview,...          0.0   \n",
       "1  19588 Heather Summit, North Gregory, IN 05388-...          0.0   \n",
       "2               293 Megan Glen, East Brian, TN 58477          0.0   \n",
       "\n",
       "   compromised_time  \n",
       "0               0.0  \n",
       "1               0.0  \n",
       "2               0.0  "
      ]
     },
     "execution_count": 6,
     "metadata": {},
     "output_type": "execute_result"
    }
   ],
   "source": [
    "simulate_customer(3)"
   ]
  },
  {
   "cell_type": "code",
   "execution_count": 7,
   "metadata": {
    "collapsed": true
   },
   "outputs": [],
   "source": [
    "def simulate_business(n, company, fraud_prob = 0.1):\n",
    "    \n",
    "    data = OrderedDict()\n",
    "    \n",
    "    data['id'] = np.arange(n)\n",
    "    data['company_name'] =sample(company, n)\n",
    "    data['addresses'] = [fake.address().replace('\\n', ', ') for n in range(n)]\n",
    "    data['fraudsters'] = np.where(np.random.sample(size=n) < fraud_prob, 1, 0)\n",
    "    \n",
    "    df = pd.DataFrame(data)\n",
    "    return df\n",
    "                                        "
   ]
  },
  {
   "cell_type": "code",
   "execution_count": 8,
   "metadata": {
    "collapsed": true
   },
   "outputs": [],
   "source": [
    "def simulate_good_transaction(ppl, companies, max_trans = 50,\n",
    "                              fraud_prob = 1,  earliest='-1mon',\n",
    "                              latest = 'now', amin=10, amax=500):\n",
    "    \n",
    "    transactions = []\n",
    "    \n",
    "    for p in range(ppl.shape[0]):\n",
    "    \n",
    "        person = ppl.iloc[p]\n",
    "        num_trans = np.random.randint(1, max_trans+1)\n",
    "    \n",
    "        for i in range(num_trans):\n",
    "        \n",
    "            time = fake.date_time_between(start_date=\"-2mon\", end_date=\"now\", tzinfo=None)\n",
    "            company = companies.sample(1)\n",
    "            amount = np.round(np.random.uniform(amin, amax), decimals=2)\n",
    "        \n",
    "            # if fraudsters are present, they may or may not steal\n",
    "            # the users information\n",
    "        \n",
    "            if company['fraudsters'].values[0] == 1:\n",
    "                \n",
    "                if np.random.sample() < fraud_prob:\n",
    "                    ppl.at[person['id'], 'compromised'] =  1\n",
    "                    ppl.at[person['id'], 'compromised_time'] =  time\n",
    "            \n",
    "            transaction = '{time} uuid={uuid} user=\"{user}\" business=\"{business}\" amount={amount} disputed=false'.format(\n",
    "                    time = time,\n",
    "                    uuid = person['uuid'],\n",
    "                    user = person['name'],\n",
    "                    business = company['company_name'].values[0],\n",
    "                    amount = amount)\n",
    "\n",
    "            transactions.append(transaction)\n",
    "            \n",
    "    return transactions"
   ]
  },
  {
   "cell_type": "code",
   "execution_count": 27,
   "metadata": {
    "collapsed": true
   },
   "outputs": [],
   "source": [
    "\n",
    "def fraud(person, companies, time, amin = 5,amax=3000):\n",
    "\n",
    "    business = companies.sample(1)\n",
    "    amount = np.round(np.random.uniform(amin, amax), decimals=2)\n",
    "\n",
    "    transaction = '{time} uuid={uuid} user=\"{user}\" business=\"{business}\" amount={amount} disputed=true'\\\n",
    "    .format(\n",
    "            time = time,\n",
    "            uuid = person['uuid'],\n",
    "            user = person['name'],\n",
    "            business = companies['name'].values[0],\n",
    "            amount = amount\n",
    "    )\n",
    "    \n",
    "    return transaction"
   ]
  },
  {
   "cell_type": "code",
   "execution_count": 28,
   "metadata": {},
   "outputs": [],
   "source": [
    "def simulate_bad_transaction(ppl, companies,max_trans = 50, \n",
    "                              customer_fraud_detect_prob = 0.01,\n",
    "                              latest = '+20d',amin = 5, amix=3000):\n",
    "    \n",
    "    transactions = []\n",
    "    compromised = ppl[ppl['compromised'] ==1]\n",
    "    \n",
    "\n",
    "    for i in range(compromised.shape[0]):\n",
    "        \n",
    "        person = compromised.iloc[i]\n",
    "        earliest = person['compromised_time']\n",
    "        time = fake.date_time_between(start_date=earliest, end_date=latest, tzinfo=None)\n",
    "        num_trans = np.random.randint(3, max_trans+1)\n",
    "        \n",
    "        for j in range(num_trans):\n",
    "             \n",
    "            if j == 1:\n",
    "                transaction = fraud(person, companies, time)\n",
    "                transactions.append(transaction)\n",
    "                \n",
    "            # Each fradulent transaction has +1% chance of being cause from the user\n",
    "            # Imaginging they are maybe monitoring their transaction history\n",
    "            # Or happen to be checking one thing or another\n",
    "            if np.random.sample() < j/100:\n",
    "                transaction = fraud(person, companies, time)\n",
    "                transactions.append(transaction)\n",
    "                \n",
    "                \n",
    "    return transactions\n",
    "        "
   ]
  },
  {
   "cell_type": "code",
   "execution_count": 29,
   "metadata": {
    "collapsed": true
   },
   "outputs": [],
   "source": [
    "businesses = simulate_business(100, company_names)"
   ]
  },
  {
   "cell_type": "code",
   "execution_count": 30,
   "metadata": {
    "collapsed": true
   },
   "outputs": [],
   "source": [
    "customers = simulate_customer(50)"
   ]
  },
  {
   "cell_type": "code",
   "execution_count": 31,
   "metadata": {
    "collapsed": true
   },
   "outputs": [],
   "source": [
    "normal_trans = simulate_good_transaction(customers, businesses)"
   ]
  },
  {
   "cell_type": "code",
   "execution_count": 32,
   "metadata": {},
   "outputs": [
    {
     "data": {
      "text/plain": [
       "['2018-04-15 23:39:33 uuid=741596b9-657a-5135-6092-9db8d57ac628 user=\"Christopher Sparks\" business=\"Two Harbors Investments Corp\" amount=404.04 disputed=false',\n",
       " '2018-04-15 23:40:22 uuid=741596b9-657a-5135-6092-9db8d57ac628 user=\"Christopher Sparks\" business=\"Western Asset Mortgage Defined Opportunity Fund Inc\" amount=363.12 disputed=false',\n",
       " '2018-04-15 23:41:15 uuid=741596b9-657a-5135-6092-9db8d57ac628 user=\"Christopher Sparks\" business=\"YuMe, Inc.\" amount=96.82 disputed=false',\n",
       " '2018-04-15 23:40:57 uuid=741596b9-657a-5135-6092-9db8d57ac628 user=\"Christopher Sparks\" business=\"Two Harbors Investments Corp\" amount=113.64 disputed=false',\n",
       " '2018-04-15 23:39:39 uuid=741596b9-657a-5135-6092-9db8d57ac628 user=\"Christopher Sparks\" business=\"Zhaopin Limited\" amount=203.08 disputed=false',\n",
       " '2018-04-15 23:40:28 uuid=741596b9-657a-5135-6092-9db8d57ac628 user=\"Christopher Sparks\" business=\"Marine Harvest ASA\" amount=160.55 disputed=false',\n",
       " '2018-04-15 23:39:41 uuid=741596b9-657a-5135-6092-9db8d57ac628 user=\"Christopher Sparks\" business=\"Wolverine World Wide, Inc.\" amount=409.19 disputed=false',\n",
       " '2018-04-15 23:40:36 uuid=741596b9-657a-5135-6092-9db8d57ac628 user=\"Christopher Sparks\" business=\"American Realty Investors, Inc.\" amount=122.28 disputed=false',\n",
       " '2018-04-15 23:40:14 uuid=741596b9-657a-5135-6092-9db8d57ac628 user=\"Christopher Sparks\" business=\"Callon Petroleum Company\" amount=320.62 disputed=false',\n",
       " '2018-04-15 23:40:03 uuid=741596b9-657a-5135-6092-9db8d57ac628 user=\"Christopher Sparks\" business=\"Quorum Health Corporation\" amount=298.87 disputed=false']"
      ]
     },
     "execution_count": 32,
     "metadata": {},
     "output_type": "execute_result"
    }
   ],
   "source": [
    "normal_trans[:10]"
   ]
  },
  {
   "cell_type": "code",
   "execution_count": 33,
   "metadata": {},
   "outputs": [],
   "source": [
    "fraud_trans = simulate_bad_transaction(customers, companies)"
   ]
  },
  {
   "cell_type": "code",
   "execution_count": 34,
   "metadata": {},
   "outputs": [
    {
     "data": {
      "text/plain": [
       "['2018-04-23 03:24:28 uuid=0edc815e-4ac3-e5b4-f50b-5bb5f8eff9d3 user=\"Renee Lee\" business=\"3D Systems Corporation\" amount=2375.92 disputed=true',\n",
       " '2018-04-23 03:24:28 uuid=0edc815e-4ac3-e5b4-f50b-5bb5f8eff9d3 user=\"Renee Lee\" business=\"3D Systems Corporation\" amount=2593.49 disputed=true',\n",
       " '2018-04-23 03:24:28 uuid=0edc815e-4ac3-e5b4-f50b-5bb5f8eff9d3 user=\"Renee Lee\" business=\"3D Systems Corporation\" amount=2408.14 disputed=true',\n",
       " '2018-04-23 03:24:28 uuid=0edc815e-4ac3-e5b4-f50b-5bb5f8eff9d3 user=\"Renee Lee\" business=\"3D Systems Corporation\" amount=2079.99 disputed=true',\n",
       " '2018-04-23 03:24:28 uuid=0edc815e-4ac3-e5b4-f50b-5bb5f8eff9d3 user=\"Renee Lee\" business=\"3D Systems Corporation\" amount=377.39 disputed=true',\n",
       " '2018-04-23 03:24:28 uuid=0edc815e-4ac3-e5b4-f50b-5bb5f8eff9d3 user=\"Renee Lee\" business=\"3D Systems Corporation\" amount=1216.69 disputed=true',\n",
       " '2018-04-23 03:24:28 uuid=0edc815e-4ac3-e5b4-f50b-5bb5f8eff9d3 user=\"Renee Lee\" business=\"3D Systems Corporation\" amount=1633.83 disputed=true',\n",
       " '2018-04-23 03:24:28 uuid=0edc815e-4ac3-e5b4-f50b-5bb5f8eff9d3 user=\"Renee Lee\" business=\"3D Systems Corporation\" amount=923.29 disputed=true',\n",
       " '2018-04-23 03:24:28 uuid=0edc815e-4ac3-e5b4-f50b-5bb5f8eff9d3 user=\"Renee Lee\" business=\"3D Systems Corporation\" amount=2873.76 disputed=true',\n",
       " '2018-04-23 03:24:28 uuid=0edc815e-4ac3-e5b4-f50b-5bb5f8eff9d3 user=\"Renee Lee\" business=\"3D Systems Corporation\" amount=2575.18 disputed=true']"
      ]
     },
     "execution_count": 34,
     "metadata": {},
     "output_type": "execute_result"
    }
   ],
   "source": [
    "fraud_trans[:10]"
   ]
  }
 ],
 "metadata": {
  "kernelspec": {
   "display_name": "Python 3",
   "language": "python",
   "name": "python3"
  },
  "language_info": {
   "codemirror_mode": {
    "name": "ipython",
    "version": 3
   },
   "file_extension": ".py",
   "mimetype": "text/x-python",
   "name": "python",
   "nbconvert_exporter": "python",
   "pygments_lexer": "ipython3",
   "version": "3.6.1"
  }
 },
 "nbformat": 4,
 "nbformat_minor": 2
}
