{
 "cells": [
  {
   "cell_type": "code",
   "execution_count": 1,
   "metadata": {
    "collapsed": true
   },
   "outputs": [],
   "source": [
    "import time \n",
    "\n",
    "\n",
    "import pandas as pd\n",
    "import numpy as np \n",
    "from collections import OrderedDict\n",
    "from faker import Factory\n",
    "from random import sample"
   ]
  },
  {
   "cell_type": "code",
   "execution_count": 2,
   "metadata": {
    "collapsed": true
   },
   "outputs": [],
   "source": [
    "fake = Factory.create()"
   ]
  },
  {
   "cell_type": "code",
   "execution_count": 3,
   "metadata": {
    "collapsed": true
   },
   "outputs": [],
   "source": [
    "companies = pd.read_csv('companies.csv', \n",
    "                        index_col=False)"
   ]
  },
  {
   "cell_type": "code",
   "execution_count": 4,
   "metadata": {
    "collapsed": true
   },
   "outputs": [],
   "source": [
    "# get company names \n",
    "company_names = list(companies['name'].values)"
   ]
  },
  {
   "cell_type": "code",
   "execution_count": 5,
   "metadata": {
    "collapsed": true
   },
   "outputs": [],
   "source": [
    "def simulate_customer(n):\n",
    "    \n",
    "    \"\"\"simulate n customers, return a dataframe.\n",
    "       Each customer has id, age, name, address, compromised: 0 or 1 \n",
    "       where 1 if compromised and value is set by later function.\"\"\"\n",
    "    \n",
    "    data = OrderedDict()\n",
    "    \n",
    "    data['id'] = np.arange(n)\n",
    "    data['name'] = [fake.name() for n in range(n)]\n",
    "    data['uuid'] = [fake.uuid4() for n in range(n)]\n",
    "    data['age'] = np.random.randint(18, 85, size=n)\n",
    "    data['addresses'] = np.array([fake.address().replace('\\n', ', ') for n in range(n)])\n",
    "    data['compromised'] = np.zeros(n)\n",
    "    data['compromised_time'] = np.zeros(n)\n",
    "    \n",
    "    df = pd.DataFrame(data)\n",
    "    return df"
   ]
  },
  {
   "cell_type": "code",
   "execution_count": 7,
   "metadata": {
    "collapsed": true
   },
   "outputs": [],
   "source": [
    "def simulate_business(n, company, fraud_prob = 0.1):  # can adjust the fraud_prob\n",
    "    \n",
    "    data = OrderedDict()\n",
    "    \n",
    "    data['id'] = np.arange(n)\n",
    "    data['company_name'] =sample(company, n)\n",
    "    data['addresses'] = [fake.address().replace('\\n', ', ') for n in range(n)]\n",
    "    data['fraudsters'] = np.where(np.random.sample(size=n) < fraud_prob, 1, 0)\n",
    "    \n",
    "    df = pd.DataFrame(data)\n",
    "    return df\n",
    "                                        "
   ]
  },
  {
   "cell_type": "code",
   "execution_count": 8,
   "metadata": {
    "collapsed": true
   },
   "outputs": [],
   "source": [
    "def simulate_good_transaction_df(ppl, companies, max_trans = 50,\n",
    "                              fraud_prob = 1,  earliest='-1mon',\n",
    "                              latest = 'now', amin=10, amax=500):\n",
    "    \n",
    "    transactions = []\n",
    "    transactions.append(['users', 'uuids', 'time', 'business',\n",
    "                         'amount', 'dispute'])\n",
    "    \n",
    "    \n",
    "    for p in range(ppl.shape[0]):\n",
    "                        \n",
    "        person = ppl.iloc[p]\n",
    "        num_trans = np.random.randint(1, max_trans+1)\n",
    "    \n",
    "        for i in range(num_trans):\n",
    "            \n",
    "            transaction = []\n",
    "        \n",
    "            time = fake.date_time_between(start_date=\"-2mon\", end_date=\"now\", tzinfo=None)\n",
    "            company = companies.sample(1)\n",
    "            amount = np.round(np.random.uniform(amin, amax), decimals=2)\n",
    "                        \n",
    "            transaction.append(person['name'])\n",
    "            transaction.append(person['uuid'])\n",
    "            transaction.append(time),\n",
    "            transaction.append(company['company_name'].values[0])\n",
    "            transaction.append(amount)\n",
    "            transaction.append(0)    # disputed is always zero for good transactions\n",
    "            transactions.append(transaction)\n",
    "        \n",
    "            # if fraudsters are present, they may or may not steal\n",
    "            # the users information\n",
    "        \n",
    "            if company['fraudsters'].values[0] == 1:\n",
    "                \n",
    "                if np.random.sample() < fraud_prob:\n",
    "                    ppl.at[person['id'], 'compromised'] =  1\n",
    "                    ppl.at[person['id'], 'compromised_time'] =  time\n",
    "                    \n",
    "    header = transactions.pop(0)\n",
    "    df = pd.DataFrame(transactions, columns = header)      \n",
    "    return df"
   ]
  },
  {
   "cell_type": "code",
   "execution_count": 9,
   "metadata": {
    "collapsed": true
   },
   "outputs": [],
   "source": [
    "\n",
    "def fraud(person, companies, time, amin = 5,amax=3000):\n",
    "\n",
    "    business = companies.sample(1)\n",
    "    amount = np.round(np.random.uniform(amin, amax), decimals=2)\n",
    "\n",
    "    transaction = []\n",
    "            \n",
    "    transaction.append(person['name'])\n",
    "    transaction.append(person['uuid'])\n",
    "    transaction.append(time)\n",
    "    transaction.append(companies['name'].values[0])\n",
    "    transaction.append(amount)\n",
    "    transaction.append(1) #disputed for bad transaction is always 1\n",
    "    \n",
    "    return transaction"
   ]
  },
  {
   "cell_type": "code",
   "execution_count": 10,
   "metadata": {
    "collapsed": true
   },
   "outputs": [],
   "source": [
    "def simulate_bad_transaction_df(ppl, companies,max_trans = 50, \n",
    "                              customer_fraud_detect_prob = 0.01,\n",
    "                              latest = '+20d',amin = 5, amix=3000):\n",
    "    \n",
    "    transactions = []\n",
    "    transactions.append(['users', 'uuids', 'time', 'business',\n",
    "                         'amount', 'dispute'])\n",
    "    \n",
    "    compromised = ppl[ppl['compromised'] ==1]\n",
    "    \n",
    "\n",
    "    for i in range(compromised.shape[0]):\n",
    "        \n",
    "        person = compromised.iloc[i]\n",
    "        earliest = person['compromised_time']\n",
    "        time = fake.date_time_between(start_date=earliest, end_date=latest, tzinfo=None)\n",
    "        num_trans = np.random.randint(3, max_trans+1)\n",
    "        \n",
    "        for j in range(num_trans):\n",
    "             \n",
    "            if j == 1:\n",
    "                transaction = fraud(person, companies, time)\n",
    "                transactions.append(transaction)\n",
    "                \n",
    "            # Each fradulent transaction has +1% chance of being cause from the user\n",
    "            # Imaginging they are maybe monitoring their transaction history\n",
    "            # Or happen to be checking one thing or another\n",
    "            if np.random.sample() < j/100:\n",
    "                transaction = fraud(person, companies, time)\n",
    "                transactions.append(transaction)\n",
    "    \n",
    "    header = transactions.pop(0)\n",
    "    df = pd.DataFrame(transactions, columns = header)  \n",
    "    \n",
    "    return df\n",
    "        "
   ]
  },
  {
   "cell_type": "code",
   "execution_count": 11,
   "metadata": {
    "collapsed": true
   },
   "outputs": [],
   "source": [
    "businesses = simulate_business(100, company_names)"
   ]
  },
  {
   "cell_type": "code",
   "execution_count": 12,
   "metadata": {
    "collapsed": true
   },
   "outputs": [],
   "source": [
    "customers = simulate_customer(50)"
   ]
  },
  {
   "cell_type": "code",
   "execution_count": 13,
   "metadata": {},
   "outputs": [
    {
     "data": {
      "text/plain": [
       "(1390, 6)"
      ]
     },
     "execution_count": 13,
     "metadata": {},
     "output_type": "execute_result"
    }
   ],
   "source": [
    "normal_trans_df = simulate_good_transaction_df(customers, businesses)\n",
    "normal_trans_df.shape"
   ]
  },
  {
   "cell_type": "code",
   "execution_count": 14,
   "metadata": {},
   "outputs": [
    {
     "data": {
      "text/html": [
       "<div>\n",
       "<style scoped>\n",
       "    .dataframe tbody tr th:only-of-type {\n",
       "        vertical-align: middle;\n",
       "    }\n",
       "\n",
       "    .dataframe tbody tr th {\n",
       "        vertical-align: top;\n",
       "    }\n",
       "\n",
       "    .dataframe thead th {\n",
       "        text-align: right;\n",
       "    }\n",
       "</style>\n",
       "<table border=\"1\" class=\"dataframe\">\n",
       "  <thead>\n",
       "    <tr style=\"text-align: right;\">\n",
       "      <th></th>\n",
       "      <th>users</th>\n",
       "      <th>uuids</th>\n",
       "      <th>time</th>\n",
       "      <th>business</th>\n",
       "      <th>amount</th>\n",
       "      <th>dispute</th>\n",
       "    </tr>\n",
       "  </thead>\n",
       "  <tbody>\n",
       "    <tr>\n",
       "      <th>0</th>\n",
       "      <td>Michael Mercado</td>\n",
       "      <td>1776f23c-ebfa-37b3-397f-18784791e578</td>\n",
       "      <td>2018-04-18 13:02:21</td>\n",
       "      <td>Haemonetics Corporation</td>\n",
       "      <td>387.54</td>\n",
       "      <td>0</td>\n",
       "    </tr>\n",
       "    <tr>\n",
       "      <th>1</th>\n",
       "      <td>Michael Mercado</td>\n",
       "      <td>1776f23c-ebfa-37b3-397f-18784791e578</td>\n",
       "      <td>2018-04-18 13:03:07</td>\n",
       "      <td>Unisys Corporation</td>\n",
       "      <td>320.93</td>\n",
       "      <td>0</td>\n",
       "    </tr>\n",
       "    <tr>\n",
       "      <th>2</th>\n",
       "      <td>Lawrence Strickland</td>\n",
       "      <td>364ddd21-15e6-17d1-5729-0213db374e2c</td>\n",
       "      <td>2018-04-18 13:02:20</td>\n",
       "      <td>St. Jude Medical, Inc.</td>\n",
       "      <td>99.60</td>\n",
       "      <td>0</td>\n",
       "    </tr>\n",
       "    <tr>\n",
       "      <th>3</th>\n",
       "      <td>Lawrence Strickland</td>\n",
       "      <td>364ddd21-15e6-17d1-5729-0213db374e2c</td>\n",
       "      <td>2018-04-18 13:02:22</td>\n",
       "      <td>Blackrock New York Municipal Income Quality Trust</td>\n",
       "      <td>63.59</td>\n",
       "      <td>0</td>\n",
       "    </tr>\n",
       "    <tr>\n",
       "      <th>4</th>\n",
       "      <td>Lawrence Strickland</td>\n",
       "      <td>364ddd21-15e6-17d1-5729-0213db374e2c</td>\n",
       "      <td>2018-04-18 13:02:56</td>\n",
       "      <td>Qwest Corporation</td>\n",
       "      <td>33.28</td>\n",
       "      <td>0</td>\n",
       "    </tr>\n",
       "  </tbody>\n",
       "</table>\n",
       "</div>"
      ],
      "text/plain": [
       "                 users                                 uuids  \\\n",
       "0      Michael Mercado  1776f23c-ebfa-37b3-397f-18784791e578   \n",
       "1      Michael Mercado  1776f23c-ebfa-37b3-397f-18784791e578   \n",
       "2  Lawrence Strickland  364ddd21-15e6-17d1-5729-0213db374e2c   \n",
       "3  Lawrence Strickland  364ddd21-15e6-17d1-5729-0213db374e2c   \n",
       "4  Lawrence Strickland  364ddd21-15e6-17d1-5729-0213db374e2c   \n",
       "\n",
       "                 time                                           business  \\\n",
       "0 2018-04-18 13:02:21                            Haemonetics Corporation   \n",
       "1 2018-04-18 13:03:07                                 Unisys Corporation   \n",
       "2 2018-04-18 13:02:20                             St. Jude Medical, Inc.   \n",
       "3 2018-04-18 13:02:22  Blackrock New York Municipal Income Quality Trust   \n",
       "4 2018-04-18 13:02:56                                  Qwest Corporation   \n",
       "\n",
       "   amount  dispute  \n",
       "0  387.54        0  \n",
       "1  320.93        0  \n",
       "2   99.60        0  \n",
       "3   63.59        0  \n",
       "4   33.28        0  "
      ]
     },
     "execution_count": 14,
     "metadata": {},
     "output_type": "execute_result"
    }
   ],
   "source": [
    "normal_trans_df.head()"
   ]
  },
  {
   "cell_type": "code",
   "execution_count": 15,
   "metadata": {},
   "outputs": [
    {
     "data": {
      "text/plain": [
       "(175, 6)"
      ]
     },
     "execution_count": 15,
     "metadata": {},
     "output_type": "execute_result"
    }
   ],
   "source": [
    "fraud_trans_df = simulate_bad_transaction_df(customers, companies)\n",
    "fraud_trans_df.shape"
   ]
  },
  {
   "cell_type": "code",
   "execution_count": 16,
   "metadata": {},
   "outputs": [
    {
     "data": {
      "text/html": [
       "<div>\n",
       "<style scoped>\n",
       "    .dataframe tbody tr th:only-of-type {\n",
       "        vertical-align: middle;\n",
       "    }\n",
       "\n",
       "    .dataframe tbody tr th {\n",
       "        vertical-align: top;\n",
       "    }\n",
       "\n",
       "    .dataframe thead th {\n",
       "        text-align: right;\n",
       "    }\n",
       "</style>\n",
       "<table border=\"1\" class=\"dataframe\">\n",
       "  <thead>\n",
       "    <tr style=\"text-align: right;\">\n",
       "      <th></th>\n",
       "      <th>users</th>\n",
       "      <th>uuids</th>\n",
       "      <th>time</th>\n",
       "      <th>business</th>\n",
       "      <th>amount</th>\n",
       "      <th>dispute</th>\n",
       "    </tr>\n",
       "  </thead>\n",
       "  <tbody>\n",
       "    <tr>\n",
       "      <th>0</th>\n",
       "      <td>Lawrence Strickland</td>\n",
       "      <td>364ddd21-15e6-17d1-5729-0213db374e2c</td>\n",
       "      <td>2018-04-23 03:57:20</td>\n",
       "      <td>3D Systems Corporation</td>\n",
       "      <td>1801.05</td>\n",
       "      <td>1</td>\n",
       "    </tr>\n",
       "    <tr>\n",
       "      <th>1</th>\n",
       "      <td>Jamie Greene</td>\n",
       "      <td>f735104f-8ab6-521f-e856-eb12fffd4cbf</td>\n",
       "      <td>2018-04-26 10:12:57</td>\n",
       "      <td>3D Systems Corporation</td>\n",
       "      <td>1992.92</td>\n",
       "      <td>1</td>\n",
       "    </tr>\n",
       "    <tr>\n",
       "      <th>2</th>\n",
       "      <td>Jamie Greene</td>\n",
       "      <td>f735104f-8ab6-521f-e856-eb12fffd4cbf</td>\n",
       "      <td>2018-04-26 10:12:57</td>\n",
       "      <td>3D Systems Corporation</td>\n",
       "      <td>2901.24</td>\n",
       "      <td>1</td>\n",
       "    </tr>\n",
       "    <tr>\n",
       "      <th>3</th>\n",
       "      <td>Juan Butler</td>\n",
       "      <td>76143cff-5e4d-e7f2-e446-184626809a54</td>\n",
       "      <td>2018-05-04 17:20:55</td>\n",
       "      <td>3D Systems Corporation</td>\n",
       "      <td>443.88</td>\n",
       "      <td>1</td>\n",
       "    </tr>\n",
       "    <tr>\n",
       "      <th>4</th>\n",
       "      <td>Juan Butler</td>\n",
       "      <td>76143cff-5e4d-e7f2-e446-184626809a54</td>\n",
       "      <td>2018-05-04 17:20:55</td>\n",
       "      <td>3D Systems Corporation</td>\n",
       "      <td>1754.47</td>\n",
       "      <td>1</td>\n",
       "    </tr>\n",
       "  </tbody>\n",
       "</table>\n",
       "</div>"
      ],
      "text/plain": [
       "                 users                                 uuids  \\\n",
       "0  Lawrence Strickland  364ddd21-15e6-17d1-5729-0213db374e2c   \n",
       "1         Jamie Greene  f735104f-8ab6-521f-e856-eb12fffd4cbf   \n",
       "2         Jamie Greene  f735104f-8ab6-521f-e856-eb12fffd4cbf   \n",
       "3          Juan Butler  76143cff-5e4d-e7f2-e446-184626809a54   \n",
       "4          Juan Butler  76143cff-5e4d-e7f2-e446-184626809a54   \n",
       "\n",
       "                 time                business   amount  dispute  \n",
       "0 2018-04-23 03:57:20  3D Systems Corporation  1801.05        1  \n",
       "1 2018-04-26 10:12:57  3D Systems Corporation  1992.92        1  \n",
       "2 2018-04-26 10:12:57  3D Systems Corporation  2901.24        1  \n",
       "3 2018-05-04 17:20:55  3D Systems Corporation   443.88        1  \n",
       "4 2018-05-04 17:20:55  3D Systems Corporation  1754.47        1  "
      ]
     },
     "execution_count": 16,
     "metadata": {},
     "output_type": "execute_result"
    }
   ],
   "source": [
    "fraud_trans_df.head()"
   ]
  },
  {
   "cell_type": "code",
   "execution_count": null,
   "metadata": {
    "collapsed": true
   },
   "outputs": [],
   "source": []
  }
 ],
 "metadata": {
  "kernelspec": {
   "display_name": "Python 3",
   "language": "python",
   "name": "python3"
  },
  "language_info": {
   "codemirror_mode": {
    "name": "ipython",
    "version": 3
   },
   "file_extension": ".py",
   "mimetype": "text/x-python",
   "name": "python",
   "nbconvert_exporter": "python",
   "pygments_lexer": "ipython3",
   "version": "3.6.1"
  }
 },
 "nbformat": 4,
 "nbformat_minor": 2
}
